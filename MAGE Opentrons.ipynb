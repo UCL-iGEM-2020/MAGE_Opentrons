{
 "cells": [
  {
   "cell_type": "code",
   "execution_count": null,
   "metadata": {},
   "outputs": [],
   "source": [
    "#Import opentrons and run\n",
    "import sys\n",
    "!{sys.executable} -m pip install opentrons"
   ]
  },
  {
   "cell_type": "code",
   "execution_count": null,
   "metadata": {},
   "outputs": [],
   "source": [
    "from opentrons import simulate\n",
    "metadata = {'apiLevel': '2.8'}\n",
    "protocol = simulate.get_protoacol_api('2.8')"
   ]
  },
  {
   "cell_type": "code",
   "execution_count": null,
   "metadata": {},
   "outputs": [],
   "source": [
    "#Labware\n",
    "dilution_plate_1 = protocol.load_labware('corning_96_wellplate_360ul_flat', 1)   #1:10 Dilution from Heatshock Output\n",
    "tiprack_10 = protocol.load_labware('opentrons_96_filtertiprack_10ul', 2)\n",
    "tiprack_200 = protocol.load_labware('opentrons_96_filtertiprack_200ul', 3)\n",
    "temp_hot = protocol.load_labware('temperature module', 4)                #For Heatshock\n",
    "bacteria_media = protocol.load_labware('nest_12_reservoir_15ml', 5)      #Bacterial Culture(A1) + LB_Media(H1)\n",
    "temp_cold = protocol.load_labware('temperature module', 6)               #For Heatshock\n",
    "storage_oligos = protocol.load_labware('opentrons_96_aluminumblock_generic_pcr_strip_200ul', 7)  #Stores Oligos\n",
    "solid_agar_glucose = protocol.load_labware('axygen_1_reservoir_90ml', 8)       #Solid Agar pre-made on the reservoir\n",
    "solid_agar_lupanine = protocol.load_labware('axygen_1_reservoir_90ml', 9)      #Solid Agar pre-made on the reservoir\n",
    "CRISPR_plasmid = protocol.load_labware('opentrons_24_tuberack_generic_2ml_screwcap', 10)\n",
    "dilution_plate_2 = protocol.load_labware('corning_96_wellplate_360ul_flat', 11)   #1:100 Dilution from Heatshock Output\n",
    "\n",
    "#pipettes\n",
    "p10 = protocol.load_instrument('p10_multi', 'left', tip_racks=[tiprack_10])\n",
    "p300 = protocol.load_instrument('p300_multi', 'right', tip_racks=[tiprack_200])\n",
    "protocol.max_speeds['Z'] = 10"
   ]
  },
  {
   "cell_type": "code",
   "execution_count": null,
   "metadata": {},
   "outputs": [],
   "source": [
    "#Add CRISPR plasmid to each of the PCR strip containing different oligos\n",
    "\n",
    "#Add cells to each strip\n",
    "\n",
    "#Heat shock protocol\n",
    "\n",
    "#Insert 180ul of LB_Media(H1) from bacteria_media into each well of dilution_plate_1\n",
    "\n",
    "#Take 20ul from PCR_STRIP that has undergone heat shock and place in dilution_plate_1 + MIX\n",
    "\n",
    "#Insert 180ul of LB_Media(H1) from bacteria_media into each well of dilution_plate_2\n",
    "\n",
    "#Take 20ul from dilution_plate_1 that is now in 1:10 dilution and place in dilution_plate_2 + MIX to get 1:100 dilution\n",
    "\n",
    "##OUTPUT: in dilution_plate_2 in each well, we have bacterial cells in 1:100 dilution with different oligos\n",
    "\n",
    "#PLATING: Spot 15ul from dilution_plate_2 into solid_agar_glucose\n",
    "\n",
    "#PLATING: Spot 15ul from dilution_plate_2 into solid_agar_lupanine"
   ]
  }
 ],
 "metadata": {
  "kernelspec": {
   "display_name": "Python 3",
   "language": "python",
   "name": "python3"
  },
  "language_info": {
   "codemirror_mode": {
    "name": "ipython",
    "version": 3
   },
   "file_extension": ".py",
   "mimetype": "text/x-python",
   "name": "python",
   "nbconvert_exporter": "python",
   "pygments_lexer": "ipython3",
   "version": "3.7.3"
  }
 },
 "nbformat": 4,
 "nbformat_minor": 2
}

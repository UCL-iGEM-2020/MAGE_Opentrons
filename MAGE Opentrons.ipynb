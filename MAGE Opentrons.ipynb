{
 "cells": [
  {
   "cell_type": "code",
   "execution_count": 72,
   "metadata": {},
   "outputs": [
    {
     "name": "stdout",
     "output_type": "stream",
     "text": [
      "Requirement already satisfied: opentrons in c:\\users\\theoh\\anaconda3\\lib\\site-packages (4.0.0)\n",
      "Requirement already satisfied: numpy>=1.15.1 in c:\\users\\theoh\\anaconda3\\lib\\site-packages (from opentrons) (1.16.5)\n",
      "Requirement already satisfied: urwid==1.3.1 in c:\\users\\theoh\\anaconda3\\lib\\site-packages (from opentrons) (1.3.1)\n",
      "Requirement already satisfied: jsonschema<4,>=3.0.2 in c:\\users\\theoh\\anaconda3\\lib\\site-packages (from opentrons) (3.0.2)\n",
      "Requirement already satisfied: pyserial==3.4 in c:\\users\\theoh\\anaconda3\\lib\\site-packages (from opentrons) (3.4)\n",
      "Requirement already satisfied: pydantic==1.4 in c:\\users\\theoh\\anaconda3\\lib\\site-packages (from opentrons) (1.4)\n",
      "Requirement already satisfied: aionotify==0.2.0 in c:\\users\\theoh\\anaconda3\\lib\\site-packages (from opentrons) (0.2.0)\n",
      "Requirement already satisfied: typing-extensions>=3.7.4.3 in c:\\users\\theoh\\anaconda3\\lib\\site-packages (from opentrons) (3.7.4.3)\n",
      "Requirement already satisfied: opentrons-shared-data==4.0.0 in c:\\users\\theoh\\anaconda3\\lib\\site-packages (from opentrons) (4.0.0)\n",
      "Requirement already satisfied: attrs>=17.4.0 in c:\\users\\theoh\\anaconda3\\lib\\site-packages (from jsonschema<4,>=3.0.2->opentrons) (19.2.0)\n",
      "Requirement already satisfied: six>=1.11.0 in c:\\users\\theoh\\anaconda3\\lib\\site-packages (from jsonschema<4,>=3.0.2->opentrons) (1.12.0)\n",
      "Requirement already satisfied: pyrsistent>=0.14.0 in c:\\users\\theoh\\anaconda3\\lib\\site-packages (from jsonschema<4,>=3.0.2->opentrons) (0.15.4)\n",
      "Requirement already satisfied: setuptools in c:\\users\\theoh\\anaconda3\\lib\\site-packages (from jsonschema<4,>=3.0.2->opentrons) (41.4.0)\n"
     ]
    }
   ],
   "source": [
    "#Import opentrons and run\n",
    "import sys\n",
    "!{sys.executable} -m pip install opentrons"
   ]
  },
  {
   "cell_type": "code",
   "execution_count": 73,
   "metadata": {},
   "outputs": [
    {
     "name": "stderr",
     "output_type": "stream",
     "text": [
      "C:\\Users\\theoh\\.opentrons\\deck_calibration.json not found. Loading defaults\n",
      "C:\\Users\\theoh\\.opentrons\\robot_settings.json not found. Loading defaults\n"
     ]
    }
   ],
   "source": [
    "from opentrons import simulate\n",
    "metadata = {'apiLevel': '2.7'}\n",
    "protocol = simulate.get_protocol_api('2.7')\n"
   ]
  },
  {
   "cell_type": "code",
   "execution_count": 74,
   "metadata": {},
   "outputs": [],
   "source": [
    "#Labware\n",
    "# Assume that we start with a P. putida strain that has edd deleted and posseses both Cas9 and recombinae plasmids\n",
    "dilution_plate_1 = protocol.load_labware('corning_96_wellplate_360ul_flat', 1)   #1:10 Dilution from Heatshock Output\n",
    "tiprack_20 = protocol.load_labware('opentrons_96_filtertiprack_20ul', 2)\n",
    "tiprack_200 = protocol.load_labware('opentrons_96_filtertiprack_200ul', 3)\n",
    "temp_hot = protocol.load_module('temperature module', 4)                #For Heatshock\n",
    "bacteria_media = protocol.load_labware('nest_12_reservoir_15ml', 5)      #Bacterial Culture(A1) + LB_Media(A6)\n",
    "temp_cold = protocol.load_module('temperature module', 6)               #For Heatshock\n",
    "storage_oligos = protocol.load_labware('opentrons_96_aluminumblock_generic_pcr_strip_200ul', 7)  #Stores Oligos\n",
    "solid_agar_glucose = protocol.load_labware('axygen_1_reservoir_90ml', 8)       #Solid Agar pre-made on the reservoir\n",
    "solid_agar_lupanine = protocol.load_labware('axygen_1_reservoir_90ml', 9)      #Solid Agar pre-made on the reservoir\n",
    "CRISPR_plasmid = protocol.load_labware('opentrons_24_tuberack_generic_2ml_screwcap', 10)\n",
    "dilution_plate_2 = protocol.load_labware('corning_96_wellplate_360ul_flat', 11)   #1:100 Dilution from Heatshock Output\n",
    "\n",
    "#pipettes\n",
    "p20 = protocol.load_instrument('p20_single_gen2', 'left', tip_racks=[tiprack_20])\n",
    "p300 = protocol.load_instrument('p300_multi', 'right', tip_racks=[tiprack_200])\n",
    "protocol.max_speeds['Z'] = 10"
   ]
  },
  {
   "cell_type": "code",
   "execution_count": 75,
   "metadata": {},
   "outputs": [
    {
     "name": "stdout",
     "output_type": "stream",
     "text": [
      "Distributing 100.0 from A1 of NEST 12 Well Reservoir 15 mL on 5 to A1 of Opentrons 96 Well Aluminum Block with Generic PCR Strip 200 µL on 7\n",
      "Transferring 100.0 from A1 of NEST 12 Well Reservoir 15 mL on 5 to A1 of Opentrons 96 Well Aluminum Block with Generic PCR Strip 200 µL on 7\n",
      "Picking up tip from A1 of Opentrons 96 Filter Tip Rack 200 µL on 3\n",
      "Aspirating 130.0 uL from A1 of NEST 12 Well Reservoir 15 mL on 5 at 150.0 uL/sec\n",
      "Touching tip\n",
      "Dispensing 100.0 uL into A1 of Opentrons 96 Well Aluminum Block with Generic PCR Strip 200 µL on 7 at 300.0 uL/sec\n",
      "Touching tip\n",
      "Blowing out at A1 of Opentrons Fixed Trash on 12\n",
      "Aspirating 130.0 uL from A1 of NEST 12 Well Reservoir 15 mL on 5 at 150.0 uL/sec\n",
      "Touching tip\n",
      "Dispensing 100.0 uL into A2 of Opentrons 96 Well Aluminum Block with Generic PCR Strip 200 µL on 7 at 300.0 uL/sec\n",
      "Touching tip\n",
      "Blowing out at A1 of Opentrons Fixed Trash on 12\n",
      "Aspirating 130.0 uL from A1 of NEST 12 Well Reservoir 15 mL on 5 at 150.0 uL/sec\n",
      "Touching tip\n",
      "Dispensing 100.0 uL into A3 of Opentrons 96 Well Aluminum Block with Generic PCR Strip 200 µL on 7 at 300.0 uL/sec\n",
      "Touching tip\n",
      "Blowing out at A1 of Opentrons Fixed Trash on 12\n",
      "Aspirating 130.0 uL from A1 of NEST 12 Well Reservoir 15 mL on 5 at 150.0 uL/sec\n",
      "Touching tip\n",
      "Dispensing 100.0 uL into A4 of Opentrons 96 Well Aluminum Block with Generic PCR Strip 200 µL on 7 at 300.0 uL/sec\n",
      "Touching tip\n",
      "Blowing out at A1 of Opentrons Fixed Trash on 12\n",
      "Aspirating 130.0 uL from A1 of NEST 12 Well Reservoir 15 mL on 5 at 150.0 uL/sec\n",
      "Touching tip\n",
      "Dispensing 100.0 uL into A5 of Opentrons 96 Well Aluminum Block with Generic PCR Strip 200 µL on 7 at 300.0 uL/sec\n",
      "Touching tip\n",
      "Blowing out at A1 of Opentrons Fixed Trash on 12\n",
      "Aspirating 130.0 uL from A1 of NEST 12 Well Reservoir 15 mL on 5 at 150.0 uL/sec\n",
      "Touching tip\n",
      "Dispensing 100.0 uL into A6 of Opentrons 96 Well Aluminum Block with Generic PCR Strip 200 µL on 7 at 300.0 uL/sec\n",
      "Touching tip\n",
      "Blowing out at A1 of Opentrons Fixed Trash on 12\n",
      "Aspirating 130.0 uL from A1 of NEST 12 Well Reservoir 15 mL on 5 at 150.0 uL/sec\n",
      "Touching tip\n",
      "Dispensing 100.0 uL into A7 of Opentrons 96 Well Aluminum Block with Generic PCR Strip 200 µL on 7 at 300.0 uL/sec\n",
      "Touching tip\n",
      "Blowing out at A1 of Opentrons Fixed Trash on 12\n",
      "Aspirating 130.0 uL from A1 of NEST 12 Well Reservoir 15 mL on 5 at 150.0 uL/sec\n",
      "Touching tip\n",
      "Dispensing 100.0 uL into A8 of Opentrons 96 Well Aluminum Block with Generic PCR Strip 200 µL on 7 at 300.0 uL/sec\n",
      "Touching tip\n",
      "Blowing out at A1 of Opentrons Fixed Trash on 12\n",
      "Aspirating 130.0 uL from A1 of NEST 12 Well Reservoir 15 mL on 5 at 150.0 uL/sec\n",
      "Touching tip\n",
      "Dispensing 100.0 uL into A9 of Opentrons 96 Well Aluminum Block with Generic PCR Strip 200 µL on 7 at 300.0 uL/sec\n",
      "Touching tip\n",
      "Blowing out at A1 of Opentrons Fixed Trash on 12\n",
      "Aspirating 130.0 uL from A1 of NEST 12 Well Reservoir 15 mL on 5 at 150.0 uL/sec\n",
      "Touching tip\n",
      "Dispensing 100.0 uL into A10 of Opentrons 96 Well Aluminum Block with Generic PCR Strip 200 µL on 7 at 300.0 uL/sec\n",
      "Touching tip\n",
      "Blowing out at A1 of Opentrons Fixed Trash on 12\n",
      "Aspirating 130.0 uL from A1 of NEST 12 Well Reservoir 15 mL on 5 at 150.0 uL/sec\n",
      "Touching tip\n",
      "Dispensing 100.0 uL into A11 of Opentrons 96 Well Aluminum Block with Generic PCR Strip 200 µL on 7 at 300.0 uL/sec\n",
      "Touching tip\n",
      "Blowing out at A1 of Opentrons Fixed Trash on 12\n",
      "Aspirating 130.0 uL from A1 of NEST 12 Well Reservoir 15 mL on 5 at 150.0 uL/sec\n",
      "Touching tip\n",
      "Dispensing 100.0 uL into A12 of Opentrons 96 Well Aluminum Block with Generic PCR Strip 200 µL on 7 at 300.0 uL/sec\n",
      "Touching tip\n",
      "Blowing out at A1 of Opentrons Fixed Trash on 12\n",
      "Dropping tip into A1 of Opentrons Fixed Trash on 12\n"
     ]
    }
   ],
   "source": [
    "Bacteria= bacteria_media.wells ('A1')\n",
    "Media= bacteria_media.wells ('A6')\n",
    "\n",
    "#Add CRISPR plasmid to each of the PCR strip containing different oligos\n",
    "p20.distribute(5, CRISPR_plasmid.wells ('A1'), storage_oligos.columns()[0:12], touch_tip=True, new_tip='always') # A1 is where the CRISPR plasmids are located on the tuberack\n",
    "    # Need to find a way to drop tip with every addition of CRISPR plasmid\n",
    "#Add cells to each strip\n",
    "p300.distribute(100, bacteria_media.wells ('A1'), storage_oligos.columns()[0:12])\n",
    "    # Need to find a way to drop tip with every addition of CRISPR plasmid\n",
    "#Heat shock protocol\n",
    "\n",
    "#Insert 180ul of LB_Media(H1) from bacteria_media into each well of dilution_plate_1\n",
    "\n",
    "#Take 20ul from PCR_STRIP that has undergone heat shock and place in dilution_plate_1 + MIX\n",
    "\n",
    "#Insert 180ul of LB_Media(H1) from bacteria_media into each well of dilution_plate_2\n",
    "\n",
    "#Take 20ul from dilution_plate_1 that is now in 1:10 dilution and place in dilution_plate_2 + MIX to get 1:100 dilution\n",
    "\n",
    "##OUTPUT: in dilution_plate_2 in each well, we have bacterial cells in 1:100 dilution with different oligos\n",
    "\n",
    "#PLATING: Spot 15ul from dilution_plate_2 into solid_agar_glucose\n",
    "\n",
    "#PLATING: Spot 15ul from dilution_plate_2 into solid_agar_lupanine\n",
    "\n",
    "for line in protocol.commands(): \n",
    "        print(line)"
   ]
  },
  {
   "cell_type": "code",
   "execution_count": null,
   "metadata": {},
   "outputs": [],
   "source": []
  }
 ],
 "metadata": {
  "kernelspec": {
   "display_name": "Python 3",
   "language": "python",
   "name": "python3"
  },
  "language_info": {
   "codemirror_mode": {
    "name": "ipython",
    "version": 3
   },
   "file_extension": ".py",
   "mimetype": "text/x-python",
   "name": "python",
   "nbconvert_exporter": "python",
   "pygments_lexer": "ipython3",
   "version": "3.7.4"
  }
 },
 "nbformat": 4,
 "nbformat_minor": 2
}
